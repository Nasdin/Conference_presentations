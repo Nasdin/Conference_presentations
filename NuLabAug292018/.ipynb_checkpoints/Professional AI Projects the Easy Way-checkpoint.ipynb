{
 "cells": [
  {
   "cell_type": "markdown",
   "metadata": {
    "slideshow": {
     "slide_type": "slide"
    }
   },
   "source": [
    "# Creating AI projects without being an expert\n",
    "#### Professional- quality AI on projects, the easy way!\n",
    "### Nasrudin Salim\n"
   ]
  },
  {
   "cell_type": "markdown",
   "metadata": {
    "slideshow": {
     "slide_type": "slide"
    }
   },
   "source": [
    "### Past\n",
    "    Software engineering, internal products -\n",
    "#### Data Scientist @ EventPenguins | VIPQueue | LiquidityMagnate\n",
    "    EWallets, Food Delivery, events management and algorithmic trading"
   ]
  },
  {
   "cell_type": "markdown",
   "metadata": {
    "slideshow": {
     "slide_type": "subslide"
    }
   },
   "source": [
    "### Now\n",
    "    \n",
    "    Full-Time\n",
    "    Data Scientist @ Canopy.Cloud - Fintech, wealth aggregation platform\n",
    "\n",
    "\n",
    "#### Gig culture - Involved in other startups on free time\n",
    "    Blockchain ewallet, FuturesRobo Advisor startup, - Lead Consultant/Architect\n",
    "    Biotech, DNA Medical blockchain project, and chatbots - medical institution - Consultant.\n",
    "\n",
    "#### Co-Founder @ Chatoyance, Fintech, Financial strategy optimization.\n",
    "    Seeded 6 Figure sum. Trading the market with deep learning applied on risk management and strategy. Serve a News Sentiment analysis on articles API.\n",
    "    DL is applied on predicting a strategy's risk, rather than on the market, reducing complexity of prediction."
   ]
  },
  {
   "cell_type": "markdown",
   "metadata": {
    "slideshow": {
     "slide_type": "slide"
    }
   },
   "source": [
    "## Some requirements before we start"
   ]
  },
  {
   "cell_type": "markdown",
   "metadata": {
    "slideshow": {
     "slide_type": "fragment"
    }
   },
   "source": [
    "#### Basic python knowledge"
   ]
  },
  {
   "cell_type": "markdown",
   "metadata": {
    "slideshow": {
     "slide_type": "fragment"
    }
   },
   "source": [
    "#### Some data lying around"
   ]
  },
  {
   "cell_type": "markdown",
   "metadata": {
    "slideshow": {
     "slide_type": "slide"
    }
   },
   "source": [
    "# What are typical applications of AI for typical local businesses?\n",
    "\n",
    "    Most businesses do not need chatbots, reinforcement learning/robotics, \n",
    "    but what is practical?\n"
   ]
  },
  {
   "cell_type": "markdown",
   "metadata": {
    "slideshow": {
     "slide_type": "subslide"
    }
   },
   "source": [
    "### Prediction -\n",
    "\n",
    "    What is going to happen?"
   ]
  },
  {
   "cell_type": "code",
   "execution_count": 1,
   "metadata": {
    "slideshow": {
     "slide_type": "skip"
    }
   },
   "outputs": [],
   "source": [
    "import pandas as pd\n",
    "from sklearn.model_selection import train_test_split\n",
    "import numpy as np\n",
    "\n",
    "churn_data = pd.read_csv(\"Customer_Churn/train.csv\")\n",
    "churn_data_answers = churn_data['Label']\n",
    "churn_data.drop(\"Label\",axis=1,inplace=True)\n",
    "churn_data_train_dataset, churn_data_test_dataset, churn_data_train_answers, churn_data_test_answers = train_test_split(churn_data, churn_data_answers, test_size = 0.3, random_state=42)\n",
    "\n",
    "churn_data_know = churn_data_train_dataset.copy()\n",
    "churn_data_know['churned'] = churn_data_train_answers\n",
    "\n",
    "churn_data_dont_know = churn_data_test_dataset.copy()\n",
    "churn_data_dont_know['churned'] = np.nan\n"
   ]
  },
  {
   "cell_type": "markdown",
   "metadata": {
    "slideshow": {
     "slide_type": "fragment"
    }
   },
   "source": [
    "### Customer Churn Prediction\n",
    "    - Traffic Usage Data\n",
    "    - Lead Conversion Data\n",
    "    - Customer Churn Records"
   ]
  },
  {
   "cell_type": "code",
   "execution_count": 2,
   "metadata": {
    "slideshow": {
     "slide_type": "skip"
    }
   },
   "outputs": [],
   "source": [
    "from IPython.display import display, HTML\n",
    "pd.options.display.max_columns = None"
   ]
  },
  {
   "cell_type": "code",
   "execution_count": 3,
   "metadata": {
    "slideshow": {
     "slide_type": "subslide"
    }
   },
   "outputs": [
    {
     "data": {
      "text/html": [
       "<table border=\"1\" class=\"dataframe\">\n",
       "  <thead>\n",
       "    <tr style=\"text-align: right;\">\n",
       "      <th></th>\n",
       "      <th># Customer_ID</th>\n",
       "      <th>Sessions</th>\n",
       "      <th>Cell_ID</th>\n",
       "      <th>District_ID</th>\n",
       "      <th>Complaints_U</th>\n",
       "      <th>Complaints_R</th>\n",
       "      <th>Complaints_W</th>\n",
       "      <th>churned</th>\n",
       "    </tr>\n",
       "  </thead>\n",
       "  <tbody>\n",
       "    <tr>\n",
       "      <th>93296</th>\n",
       "      <td>2770289.0</td>\n",
       "      <td>14.0</td>\n",
       "      <td>0.0</td>\n",
       "      <td>4096.0</td>\n",
       "      <td>0.0</td>\n",
       "      <td>0.0</td>\n",
       "      <td>0.0</td>\n",
       "      <td>0.0</td>\n",
       "    </tr>\n",
       "    <tr>\n",
       "      <th>7022</th>\n",
       "      <td>41859563.0</td>\n",
       "      <td>53.0</td>\n",
       "      <td>0.0</td>\n",
       "      <td>4018.0</td>\n",
       "      <td>1.0</td>\n",
       "      <td>0.0</td>\n",
       "      <td>0.0</td>\n",
       "      <td>1.0</td>\n",
       "    </tr>\n",
       "    <tr>\n",
       "      <th>38831</th>\n",
       "      <td>2076101.0</td>\n",
       "      <td>16.0</td>\n",
       "      <td>0.0</td>\n",
       "      <td>4096.0</td>\n",
       "      <td>0.0</td>\n",
       "      <td>0.0</td>\n",
       "      <td>0.0</td>\n",
       "      <td>1.0</td>\n",
       "    </tr>\n",
       "    <tr>\n",
       "      <th>8161</th>\n",
       "      <td>42562614.0</td>\n",
       "      <td>3.0</td>\n",
       "      <td>0.0</td>\n",
       "      <td>4096.0</td>\n",
       "      <td>0.0</td>\n",
       "      <td>0.0</td>\n",
       "      <td>0.0</td>\n",
       "      <td>1.0</td>\n",
       "    </tr>\n",
       "    <tr>\n",
       "      <th>11827</th>\n",
       "      <td>1509741.0</td>\n",
       "      <td>16.0</td>\n",
       "      <td>0.0</td>\n",
       "      <td>4096.0</td>\n",
       "      <td>0.0</td>\n",
       "      <td>0.0</td>\n",
       "      <td>0.0</td>\n",
       "      <td>0.0</td>\n",
       "    </tr>\n",
       "  </tbody>\n",
       "</table>"
      ],
      "text/plain": [
       "<IPython.core.display.HTML object>"
      ]
     },
     "metadata": {},
     "output_type": "display_data"
    }
   ],
   "source": [
    "display(HTML(churn_data_know.head().to_html()))"
   ]
  },
  {
   "cell_type": "markdown",
   "metadata": {
    "slideshow": {
     "slide_type": "subslide"
    }
   },
   "source": [
    "## Image Classification - \n",
    "\n",
    "    What is this?"
   ]
  },
  {
   "cell_type": "markdown",
   "metadata": {
    "slideshow": {
     "slide_type": "fragment"
    }
   },
   "source": [
    "### Clothes and Fashion\n",
    "\n",
    "#### Labelling images of clothes"
   ]
  },
  {
   "cell_type": "markdown",
   "metadata": {
    "slideshow": {
     "slide_type": "subslide"
    }
   },
   "source": [
    "Label: Tribal Print Bodycon![img](imgs/Tribal_Print_Bodycon_Dressimg_00000001.jpg)\n",
    "Label: Triangle Patterned Dolman Cardigan    \n",
    "![img](imgs/Triangle-Patterned_Dolman_Cardiganimg_00000001.jpg)\n"
   ]
  },
  {
   "cell_type": "code",
   "execution_count": 4,
   "metadata": {
    "slideshow": {
     "slide_type": "skip"
    }
   },
   "outputs": [],
   "source": [
    "def clean_image_name_fashion(description:str) -> str:\n",
    "    item = description.split(\"/\")[1]\n",
    "    item = item.replace(\"_\",\" \").replace(\"-\",\" \")\n",
    "    return item.split(\" \")[-1]\n",
    "    "
   ]
  },
  {
   "cell_type": "code",
   "execution_count": 5,
   "metadata": {
    "slideshow": {
     "slide_type": "skip"
    }
   },
   "outputs": [],
   "source": [
    "fashion_images = pd.read_table(\"Fashion_Prediction/list_category_img.txt\", delim_whitespace=True, skiprows=1)\n",
    "fashion_images['label'] = fashion_images['image_name'].apply(clean_image_name_fashion)\n",
    "fashion_images.sort_values(\"category_label\",inplace=True)\n",
    "fashion_images.reset_index(inplace=True,drop=True)"
   ]
  },
  {
   "cell_type": "markdown",
   "metadata": {
    "slideshow": {
     "slide_type": "subslide"
    }
   },
   "source": [
    "## The fashion dataset you might have lying around"
   ]
  },
  {
   "cell_type": "code",
   "execution_count": 6,
   "metadata": {
    "slideshow": {
     "slide_type": "fragment"
    }
   },
   "outputs": [
    {
     "data": {
      "text/html": [
       "<div>\n",
       "<style scoped>\n",
       "    .dataframe tbody tr th:only-of-type {\n",
       "        vertical-align: middle;\n",
       "    }\n",
       "\n",
       "    .dataframe tbody tr th {\n",
       "        vertical-align: top;\n",
       "    }\n",
       "\n",
       "    .dataframe thead th {\n",
       "        text-align: right;\n",
       "    }\n",
       "</style>\n",
       "<table border=\"1\" class=\"dataframe\">\n",
       "  <thead>\n",
       "    <tr style=\"text-align: right;\">\n",
       "      <th></th>\n",
       "      <th>image_name</th>\n",
       "      <th>category_label</th>\n",
       "      <th>label</th>\n",
       "    </tr>\n",
       "  </thead>\n",
       "  <tbody>\n",
       "    <tr>\n",
       "      <th>0</th>\n",
       "      <td>img/Hooded_Cotton_Canvas_Anorak/img_00000037.jpg</td>\n",
       "      <td>1</td>\n",
       "      <td>Anorak</td>\n",
       "    </tr>\n",
       "    <tr>\n",
       "      <th>160</th>\n",
       "      <td>img/Tribal_Print_Linen_Blazer/img_00000030.jpg</td>\n",
       "      <td>2</td>\n",
       "      <td>Blazer</td>\n",
       "    </tr>\n",
       "    <tr>\n",
       "      <th>7655</th>\n",
       "      <td>img/Lace-Paneled_Crepe_Blouse/img_00000022.jpg</td>\n",
       "      <td>3</td>\n",
       "      <td>Blouse</td>\n",
       "    </tr>\n",
       "    <tr>\n",
       "      <th>32212</th>\n",
       "      <td>img/Zip_Collar_Bomber/img_00000136.jpg</td>\n",
       "      <td>4</td>\n",
       "      <td>Bomber</td>\n",
       "    </tr>\n",
       "    <tr>\n",
       "      <th>32521</th>\n",
       "      <td>img/Tartan_Plaid_Button-Down/img_00000044.jpg</td>\n",
       "      <td>5</td>\n",
       "      <td>Down</td>\n",
       "    </tr>\n",
       "    <tr>\n",
       "      <th>32851</th>\n",
       "      <td>img/Hooded_Open-Front_Cardigan/img_00000043.jpg</td>\n",
       "      <td>6</td>\n",
       "      <td>Cardigan</td>\n",
       "    </tr>\n",
       "    <tr>\n",
       "      <th>46162</th>\n",
       "      <td>img/Rustic_Plaid_Flannel/img_00000034.jpg</td>\n",
       "      <td>7</td>\n",
       "      <td>Flannel</td>\n",
       "    </tr>\n",
       "  </tbody>\n",
       "</table>\n",
       "</div>"
      ],
      "text/plain": [
       "                                             image_name  category_label  \\\n",
       "0      img/Hooded_Cotton_Canvas_Anorak/img_00000037.jpg               1   \n",
       "160      img/Tribal_Print_Linen_Blazer/img_00000030.jpg               2   \n",
       "7655     img/Lace-Paneled_Crepe_Blouse/img_00000022.jpg               3   \n",
       "32212            img/Zip_Collar_Bomber/img_00000136.jpg               4   \n",
       "32521     img/Tartan_Plaid_Button-Down/img_00000044.jpg               5   \n",
       "32851   img/Hooded_Open-Front_Cardigan/img_00000043.jpg               6   \n",
       "46162         img/Rustic_Plaid_Flannel/img_00000034.jpg               7   \n",
       "\n",
       "          label  \n",
       "0        Anorak  \n",
       "160      Blazer  \n",
       "7655     Blouse  \n",
       "32212    Bomber  \n",
       "32521      Down  \n",
       "32851  Cardigan  \n",
       "46162   Flannel  "
      ]
     },
     "execution_count": 6,
     "metadata": {},
     "output_type": "execute_result"
    }
   ],
   "source": [
    "fashion_images.drop_duplicates(\"category_label\").head(7)"
   ]
  },
  {
   "cell_type": "markdown",
   "metadata": {
    "slideshow": {
     "slide_type": "subslide"
    }
   },
   "source": [
    "### Natural Language Processing\n",
    "\n",
    "    What is being talked about?\n",
    "    Automated data entry"
   ]
  },
  {
   "cell_type": "markdown",
   "metadata": {
    "slideshow": {
     "slide_type": "fragment"
    }
   },
   "source": [
    "### Sentiment Analysis\n",
    "### Text Classifiation"
   ]
  },
  {
   "cell_type": "markdown",
   "metadata": {
    "slideshow": {
     "slide_type": "fragment"
    }
   },
   "source": [
    "#### News Articles, good, bad? ( Sentiment)\n",
    "\n",
    "#### Labelling Text Data ( Categorizing)"
   ]
  },
  {
   "cell_type": "markdown",
   "metadata": {
    "slideshow": {
     "slide_type": "slide"
    }
   },
   "source": [
    "### What you can do to bridge the gap without a team of Data Scientists\n",
    "\n",
    "\n",
    "        Achieve close to or professional results"
   ]
  },
  {
   "cell_type": "markdown",
   "metadata": {
    "slideshow": {
     "slide_type": "fragment"
    }
   },
   "source": [
    "#### Google AutoML\n"
   ]
  },
  {
   "cell_type": "markdown",
   "metadata": {
    "slideshow": {
     "slide_type": "fragment"
    }
   },
   "source": [
    "#### H2O"
   ]
  },
  {
   "cell_type": "markdown",
   "metadata": {
    "slideshow": {
     "slide_type": "fragment"
    }
   },
   "source": [
    "#### DataRobot"
   ]
  },
  {
   "cell_type": "markdown",
   "metadata": {
    "slideshow": {
     "slide_type": "slide"
    }
   },
   "source": [
    "## Google AutoML\n",
    "\n",
    "##### AutoML Vision\n",
    "##### AutoML Natural Language\n",
    "##### AutoML Engine\n"
   ]
  },
  {
   "cell_type": "markdown",
   "metadata": {
    "slideshow": {
     "slide_type": "fragment"
    }
   },
   "source": [
    "    I do not work for Google!"
   ]
  },
  {
   "cell_type": "markdown",
   "metadata": {
    "slideshow": {
     "slide_type": "slide"
    }
   },
   "source": [
    "![img](imgs/GoogleAutoML.png)"
   ]
  },
  {
   "cell_type": "markdown",
   "metadata": {
    "slideshow": {
     "slide_type": "subslide"
    }
   },
   "source": [
    "![img](imgs/GoogleAutoML2.png)"
   ]
  },
  {
   "cell_type": "markdown",
   "metadata": {
    "slideshow": {
     "slide_type": "subslide"
    }
   },
   "source": [
    "![img](imgs/GoogleAutoML3.png)"
   ]
  },
  {
   "cell_type": "markdown",
   "metadata": {
    "slideshow": {
     "slide_type": "subslide"
    }
   },
   "source": [
    "![img](imgs/GoogleAutoML4.png)"
   ]
  },
  {
   "cell_type": "code",
   "execution_count": 7,
   "metadata": {
    "scrolled": true,
    "slideshow": {
     "slide_type": "subslide"
    }
   },
   "outputs": [
    {
     "data": {
      "text/html": [
       "<div>\n",
       "<style scoped>\n",
       "    .dataframe tbody tr th:only-of-type {\n",
       "        vertical-align: middle;\n",
       "    }\n",
       "\n",
       "    .dataframe tbody tr th {\n",
       "        vertical-align: top;\n",
       "    }\n",
       "\n",
       "    .dataframe thead th {\n",
       "        text-align: right;\n",
       "    }\n",
       "</style>\n",
       "<table border=\"1\" class=\"dataframe\">\n",
       "  <thead>\n",
       "    <tr style=\"text-align: right;\">\n",
       "      <th></th>\n",
       "      <th>image_name</th>\n",
       "      <th>category_label</th>\n",
       "      <th>label</th>\n",
       "    </tr>\n",
       "  </thead>\n",
       "  <tbody>\n",
       "    <tr>\n",
       "      <th>0</th>\n",
       "      <td>img/Hooded_Cotton_Canvas_Anorak/img_00000037.jpg</td>\n",
       "      <td>1</td>\n",
       "      <td>Anorak</td>\n",
       "    </tr>\n",
       "    <tr>\n",
       "      <th>1</th>\n",
       "      <td>img/Hooded_Cotton_Canvas_Anorak/img_00000012.jpg</td>\n",
       "      <td>1</td>\n",
       "      <td>Anorak</td>\n",
       "    </tr>\n",
       "    <tr>\n",
       "      <th>2</th>\n",
       "      <td>img/Hooded_Cotton_Canvas_Anorak/img_00000013.jpg</td>\n",
       "      <td>1</td>\n",
       "      <td>Anorak</td>\n",
       "    </tr>\n",
       "    <tr>\n",
       "      <th>3</th>\n",
       "      <td>img/Hooded_Cotton_Canvas_Anorak/img_00000014.jpg</td>\n",
       "      <td>1</td>\n",
       "      <td>Anorak</td>\n",
       "    </tr>\n",
       "    <tr>\n",
       "      <th>4</th>\n",
       "      <td>img/Hooded_Cotton_Canvas_Anorak/img_00000015.jpg</td>\n",
       "      <td>1</td>\n",
       "      <td>Anorak</td>\n",
       "    </tr>\n",
       "  </tbody>\n",
       "</table>\n",
       "</div>"
      ],
      "text/plain": [
       "                                         image_name  category_label   label\n",
       "0  img/Hooded_Cotton_Canvas_Anorak/img_00000037.jpg               1  Anorak\n",
       "1  img/Hooded_Cotton_Canvas_Anorak/img_00000012.jpg               1  Anorak\n",
       "2  img/Hooded_Cotton_Canvas_Anorak/img_00000013.jpg               1  Anorak\n",
       "3  img/Hooded_Cotton_Canvas_Anorak/img_00000014.jpg               1  Anorak\n",
       "4  img/Hooded_Cotton_Canvas_Anorak/img_00000015.jpg               1  Anorak"
      ]
     },
     "execution_count": 7,
     "metadata": {},
     "output_type": "execute_result"
    }
   ],
   "source": [
    "fashion_images.head()"
   ]
  },
  {
   "cell_type": "code",
   "execution_count": 8,
   "metadata": {
    "slideshow": {
     "slide_type": "-"
    }
   },
   "outputs": [
    {
     "data": {
      "text/plain": [
       "(289222, 3)"
      ]
     },
     "execution_count": 8,
     "metadata": {},
     "output_type": "execute_result"
    }
   ],
   "source": [
    "fashion_images.shape"
   ]
  },
  {
   "cell_type": "markdown",
   "metadata": {
    "slideshow": {
     "slide_type": "subslide"
    }
   },
   "source": [
    "### Generalize my labels and limit samples.\n",
    "    Take only 200 of each"
   ]
  },
  {
   "cell_type": "code",
   "execution_count": 79,
   "metadata": {
    "slideshow": {
     "slide_type": "fragment"
    }
   },
   "outputs": [],
   "source": [
    "random_samples = pd.DataFrame()\n",
    "for label in fashion_images['label'].unique():\n",
    "    subset = fashion_images.loc[fashion_images['label']==label]\n",
    "    max_sample = min(subset.shape[0],200)\n",
    "    random_samples = pd.concat([random_samples, subset.sample(max_sample)]) \n",
    "    # Take a sample without replacement"
   ]
  },
  {
   "cell_type": "code",
   "execution_count": 80,
   "metadata": {
    "slideshow": {
     "slide_type": "-"
    }
   },
   "outputs": [
    {
     "data": {
      "text/plain": [
       "Tee            200\n",
       "Cutoffs        200\n",
       "Sweater        200\n",
       "Henley         200\n",
       "Sweatshorts    200\n",
       "Parka          200\n",
       "Down           200\n",
       "Blazer         200\n",
       "Top            200\n",
       "Sweatpants     200\n",
       "Blouse         200\n",
       "Bomber         200\n",
       "Jersey         200\n",
       "Skirt          200\n",
       "Kimono         200\n",
       "Shorts         200\n",
       "Cardigan       200\n",
       "Trunks         200\n",
       "Poncho         200\n",
       "Tank           200\n",
       "Leggings       200\n",
       "Jumpsuit       200\n",
       "Jeans          200\n",
       "Chinos         200\n",
       "Jacket         200\n",
       "Romper         200\n",
       "Dress          200\n",
       "Culottes       200\n",
       "Jeggings       200\n",
       "Flannel        200\n",
       "Hoodie         200\n",
       "Joggers        200\n",
       "Coat           200\n",
       "Anorak         160\n",
       "Robe           150\n",
       "Turtleneck     146\n",
       "Kaftan         126\n",
       "Peacoat         97\n",
       "Capris          77\n",
       "Onesie          70\n",
       "Caftan          54\n",
       "Gauchos         49\n",
       "Jodhpurs        45\n",
       "Sarong          32\n",
       "Coverup         17\n",
       "Halter          17\n",
       "Name: label, dtype: int64"
      ]
     },
     "execution_count": 80,
     "metadata": {},
     "output_type": "execute_result"
    }
   ],
   "source": [
    "random_samples.reset_index(drop=True,inplace=True)\n",
    "random_samples['label'].value_counts()"
   ]
  },
  {
   "cell_type": "code",
   "execution_count": 81,
   "metadata": {
    "slideshow": {
     "slide_type": "subslide"
    }
   },
   "outputs": [
    {
     "data": {
      "text/plain": [
       "7640"
      ]
     },
     "execution_count": 81,
     "metadata": {},
     "output_type": "execute_result"
    }
   ],
   "source": [
    "random_samples.shape[0]"
   ]
  },
  {
   "cell_type": "markdown",
   "metadata": {
    "slideshow": {
     "slide_type": "subslide"
    }
   },
   "source": [
    "### Copy Files Into different subfolders"
   ]
  },
  {
   "cell_type": "code",
   "execution_count": 82,
   "metadata": {
    "slideshow": {
     "slide_type": "fragment"
    }
   },
   "outputs": [],
   "source": [
    "import os\n",
    "import shutil"
   ]
  },
  {
   "cell_type": "code",
   "execution_count": 84,
   "metadata": {
    "scrolled": true,
    "slideshow": {
     "slide_type": "-"
    }
   },
   "outputs": [],
   "source": [
    "try:\n",
    "    os.mkdir(\"../../data/image_classification/samples\")\n",
    "except FileExistsError:\n",
    "    pass\n",
    "\n",
    "for image_number, row in enumerate(random_samples.itertuples()):\n",
    "    folder_name = \"../../data/image_classification/samples/{}\".format(row.label) \n",
    "    if not os.path.exists(folder_name):\n",
    "        os.mkdir(folder_name)\n",
    "    source_file = os.path.abspath(\"../../data/image_classification/data/{}\".format(row.image_name))\n",
    "    destination_file = os.path.abspath(\"../../data/image_classification/samples/{}/img_{}.jpg\".format(row.label, str(image_number)))\n",
    "    # Move the file here\n",
    "    shutil.copy(source_file, destination_file)"
   ]
  },
  {
   "cell_type": "markdown",
   "metadata": {
    "slideshow": {
     "slide_type": "subslide"
    }
   },
   "source": [
    "![img](imgs/GoogleAutoML5.png)"
   ]
  },
  {
   "cell_type": "markdown",
   "metadata": {
    "slideshow": {
     "slide_type": "subslide"
    }
   },
   "source": [
    "### Zip Upload, Train"
   ]
  },
  {
   "cell_type": "markdown",
   "metadata": {
    "slideshow": {
     "slide_type": "-"
    }
   },
   "source": [
    "![img](imgs/GoogleAutoML6.png)"
   ]
  },
  {
   "cell_type": "markdown",
   "metadata": {
    "slideshow": {
     "slide_type": "subslide"
    }
   },
   "source": [
    "![img](imgs/GoogleAutoML7.png)"
   ]
  },
  {
   "cell_type": "markdown",
   "metadata": {
    "slideshow": {
     "slide_type": "subslide"
    }
   },
   "source": [
    "![img](imgs/GoogleAutoML8.png)"
   ]
  },
  {
   "cell_type": "markdown",
   "metadata": {
    "slideshow": {
     "slide_type": "skip"
    }
   },
   "source": [
    "# Using Google AutoML NLP for Classifying Text"
   ]
  },
  {
   "cell_type": "markdown",
   "metadata": {
    "slideshow": {
     "slide_type": "skip"
    }
   },
   "source": [
    "## Split your data to Train, Test and Validation\n",
    "\n",
    "    Train : 60%\n",
    "    Test: 20%\n",
    "    Validation: 20%\n",
    "    \n",
    "### Remove the labels"
   ]
  },
  {
   "cell_type": "markdown",
   "metadata": {
    "slideshow": {
     "slide_type": "skip"
    }
   },
   "source": [
    "![img](imgs/traintestvalidation.png)"
   ]
  },
  {
   "cell_type": "code",
   "execution_count": 10,
   "metadata": {
    "slideshow": {
     "slide_type": "skip"
    }
   },
   "outputs": [],
   "source": [
    "import pandas as pd\n",
    "from sklearn.model_selection import train_test_split\n",
    "import numpy as np\n",
    "\n",
    "churn_data = pd.read_csv(\"Customer_Churn/train.csv\")"
   ]
  },
  {
   "cell_type": "code",
   "execution_count": 11,
   "metadata": {
    "slideshow": {
     "slide_type": "skip"
    }
   },
   "outputs": [
    {
     "data": {
      "text/html": [
       "<table border=\"1\" class=\"dataframe\">\n",
       "  <thead>\n",
       "    <tr style=\"text-align: right;\">\n",
       "      <th></th>\n",
       "      <th># Customer_ID</th>\n",
       "      <th>Sessions</th>\n",
       "      <th>Cell_ID</th>\n",
       "      <th>District_ID</th>\n",
       "      <th>Complaints_U</th>\n",
       "      <th>Complaints_R</th>\n",
       "      <th>Complaints_W</th>\n",
       "      <th>Label</th>\n",
       "    </tr>\n",
       "  </thead>\n",
       "  <tbody>\n",
       "    <tr>\n",
       "      <th>0</th>\n",
       "      <td>44236450.0</td>\n",
       "      <td>3.0</td>\n",
       "      <td>0.0</td>\n",
       "      <td>4096.0</td>\n",
       "      <td>0.0</td>\n",
       "      <td>0.0</td>\n",
       "      <td>0.0</td>\n",
       "      <td>1.0</td>\n",
       "    </tr>\n",
       "    <tr>\n",
       "      <th>1</th>\n",
       "      <td>2948643.0</td>\n",
       "      <td>10.0</td>\n",
       "      <td>0.0</td>\n",
       "      <td>4049.0</td>\n",
       "      <td>0.0</td>\n",
       "      <td>0.0</td>\n",
       "      <td>0.0</td>\n",
       "      <td>1.0</td>\n",
       "    </tr>\n",
       "    <tr>\n",
       "      <th>2</th>\n",
       "      <td>42637860.0</td>\n",
       "      <td>11.0</td>\n",
       "      <td>0.0</td>\n",
       "      <td>4044.0</td>\n",
       "      <td>0.0</td>\n",
       "      <td>0.0</td>\n",
       "      <td>0.0</td>\n",
       "      <td>0.0</td>\n",
       "    </tr>\n",
       "    <tr>\n",
       "      <th>3</th>\n",
       "      <td>40512349.0</td>\n",
       "      <td>8.0</td>\n",
       "      <td>0.0</td>\n",
       "      <td>4080.0</td>\n",
       "      <td>0.0</td>\n",
       "      <td>0.0</td>\n",
       "      <td>0.0</td>\n",
       "      <td>1.0</td>\n",
       "    </tr>\n",
       "    <tr>\n",
       "      <th>4</th>\n",
       "      <td>2149557.0</td>\n",
       "      <td>13.0</td>\n",
       "      <td>0.0</td>\n",
       "      <td>4096.0</td>\n",
       "      <td>0.0</td>\n",
       "      <td>0.0</td>\n",
       "      <td>0.0</td>\n",
       "      <td>0.0</td>\n",
       "    </tr>\n",
       "  </tbody>\n",
       "</table>"
      ],
      "text/plain": [
       "<IPython.core.display.HTML object>"
      ]
     },
     "metadata": {},
     "output_type": "display_data"
    }
   ],
   "source": [
    "display(HTML(churn_data.head().to_html()))"
   ]
  },
  {
   "cell_type": "code",
   "execution_count": 12,
   "metadata": {
    "slideshow": {
     "slide_type": "skip"
    }
   },
   "outputs": [
    {
     "data": {
      "text/plain": [
       "(130000, 8)"
      ]
     },
     "execution_count": 12,
     "metadata": {},
     "output_type": "execute_result"
    }
   ],
   "source": [
    "churn_data.shape"
   ]
  },
  {
   "cell_type": "markdown",
   "metadata": {
    "slideshow": {
     "slide_type": "skip"
    }
   },
   "source": [
    "#### Separate the Label from the data"
   ]
  },
  {
   "cell_type": "code",
   "execution_count": 13,
   "metadata": {
    "slideshow": {
     "slide_type": "skip"
    }
   },
   "outputs": [],
   "source": [
    "churn_data_answers = churn_data['Label']\n",
    "churn_data.drop(\"Label\",axis=1,inplace=True)"
   ]
  },
  {
   "cell_type": "markdown",
   "metadata": {
    "slideshow": {
     "slide_type": "skip"
    }
   },
   "source": [
    "#### Split the Dataset into Train, Test and Split portions"
   ]
  },
  {
   "cell_type": "markdown",
   "metadata": {
    "slideshow": {
     "slide_type": "skip"
    }
   },
   "source": [
    "###### Split into Train(60%) and Test(40%)"
   ]
  },
  {
   "cell_type": "code",
   "execution_count": 14,
   "metadata": {
    "slideshow": {
     "slide_type": "skip"
    }
   },
   "outputs": [],
   "source": [
    "from sklearn.model_selection import train_test_split\n",
    "churn_data_train_dataset, churn_data_test_dataset, \\\n",
    "churn_data_train_answers, churn_data_test_answers = \\\n",
    "                     train_test_split(churn_data, \n",
    "                                      churn_data_answers, \n",
    "                                      test_size = 0.4, \n",
    "                                      random_state=1)"
   ]
  },
  {
   "cell_type": "markdown",
   "metadata": {
    "slideshow": {
     "slide_type": "skip"
    }
   },
   "source": [
    "##### Split the Test(40%) into Test(20%) and Validate(20%), by halving it(Take 50%)"
   ]
  },
  {
   "cell_type": "code",
   "execution_count": 15,
   "metadata": {
    "slideshow": {
     "slide_type": "skip"
    }
   },
   "outputs": [],
   "source": [
    "churn_data_test_dataset, churn_data_validate_dataset, \\\n",
    "churn_data_test_answers, churn_data_validate_answers = \\\n",
    "                        train_test_split(churn_data_test_dataset,\n",
    "                                         churn_data_test_dataset,\n",
    "                                         test_size = 0.5, \n",
    "                                         random_state=2)"
   ]
  },
  {
   "cell_type": "code",
   "execution_count": 16,
   "metadata": {
    "slideshow": {
     "slide_type": "skip"
    }
   },
   "outputs": [
    {
     "name": "stdout",
     "output_type": "stream",
     "text": [
      "(78000, 7)\n",
      "(26000, 7)\n",
      "(26000, 7)\n"
     ]
    }
   ],
   "source": [
    "print(churn_data_train_dataset.shape)\n",
    "print(churn_data_test_dataset.shape)\n",
    "print(churn_data_validate_dataset.shape)"
   ]
  },
  {
   "cell_type": "markdown",
   "metadata": {
    "slideshow": {
     "slide_type": "slide"
    }
   },
   "source": [
    "### Some ending notes\n",
    "\n",
    "    This does not make Data Scientists or programmers redundant.\n",
    "    This frees up a lot of the guess work that data scientists usually have to do.\n",
    "    Data Scientists and developers are still required to optimize, implement and design products and processes.\n",
    "    "
   ]
  }
 ],
 "metadata": {
  "celltoolbar": "Slideshow",
  "kernelspec": {
   "display_name": "Python 3",
   "language": "python",
   "name": "python3"
  },
  "language_info": {
   "codemirror_mode": {
    "name": "ipython",
    "version": 3
   },
   "file_extension": ".py",
   "mimetype": "text/x-python",
   "name": "python",
   "nbconvert_exporter": "python",
   "pygments_lexer": "ipython3",
   "version": "3.6.2"
  }
 },
 "nbformat": 4,
 "nbformat_minor": 2
}
