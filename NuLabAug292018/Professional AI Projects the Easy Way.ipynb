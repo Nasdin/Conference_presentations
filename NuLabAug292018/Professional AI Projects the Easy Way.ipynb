{
 "cells": [
  {
   "cell_type": "markdown",
   "metadata": {
    "slideshow": {
     "slide_type": "slide"
    }
   },
   "source": [
    "# Creating AI projects without being an expert\n",
    "#### Professional- quality AI on projects, the easy way!\n",
    "### Nasrudin Salim\n"
   ]
  },
  {
   "cell_type": "markdown",
   "metadata": {
    "slideshow": {
     "slide_type": "slide"
    }
   },
   "source": [
    "### Past\n",
    "    Software engineering, internal products -\n",
    "#### Data Scientist @ EventPenguins | VIPQueue | LiquidityMagnate\n",
    "    EWallets, Food Delivery, events management and algorithmic trading"
   ]
  },
  {
   "cell_type": "markdown",
   "metadata": {
    "slideshow": {
     "slide_type": "subslide"
    }
   },
   "source": [
    "### Now\n",
    "    \n",
    "    Full-Time\n",
    "    Data Scientist @ Canopy.Cloud - Fintech, wealth aggregation platform\n",
    "\n",
    "\n",
    "#### Gig culture - Involved in other startups on free time\n",
    "    Blockchain ewallet, FuturesRobo Advisor startup, - Lead Consultant/Architect\n",
    "    Biotech, DNA Medical blockchain project, and chatbots - medical institution - Consultant.\n",
    "\n",
    "#### Co-Founder @ Chatoyance, Fintech, Financial strategy optimization.\n",
    "    Seeded 6 Figure sum. Trading the market with deep learning applied on risk management and strategy. Serve a News Sentiment analysis on articles API.\n",
    "    DL is applied on predicting a strategy's risk, rather than on the market, reducing complexity of prediction."
   ]
  },
  {
   "cell_type": "markdown",
   "metadata": {
    "slideshow": {
     "slide_type": "slide"
    }
   },
   "source": [
    "# What are typical applications of AI for typical local businesses?\n",
    "    Most businesses do not need chatbots, reinforcement learning/robotics, but what is practical?\n"
   ]
  },
  {
   "cell_type": "markdown",
   "metadata": {
    "slideshow": {
     "slide_type": "fragment"
    }
   },
   "source": [
    "### Prediction -\n",
    "    What is going to happen?"
   ]
  },
  {
   "cell_type": "markdown",
   "metadata": {
    "slideshow": {
     "slide_type": "fragment"
    }
   },
   "source": [
    "### Image Classification - \n",
    "    What is this?"
   ]
  },
  {
   "cell_type": "markdown",
   "metadata": {
    "slideshow": {
     "slide_type": "fragment"
    }
   },
   "source": [
    "### Text Classification\n",
    "    What is being talked about?\n",
    "    Automated data entry\n",
    "    I have too many word documents lying around"
   ]
  },
  {
   "cell_type": "markdown",
   "metadata": {
    "slideshow": {
     "slide_type": "slide"
    }
   },
   "source": [
    "## Some requirements before we start"
   ]
  },
  {
   "cell_type": "markdown",
   "metadata": {
    "slideshow": {
     "slide_type": "fragment"
    }
   },
   "source": [
    "#### Basic python knowledge"
   ]
  },
  {
   "cell_type": "markdown",
   "metadata": {
    "slideshow": {
     "slide_type": "fragment"
    }
   },
   "source": [
    "#### Understanding of technology"
   ]
  },
  {
   "cell_type": "markdown",
   "metadata": {
    "slideshow": {
     "slide_type": "fragment"
    }
   },
   "source": [
    "#### Some data lying around"
   ]
  },
  {
   "cell_type": "markdown",
   "metadata": {
    "slideshow": {
     "slide_type": "slide"
    }
   },
   "source": [
    "# Classification\n",
    "### Clothes and Fashion\n",
    "#### Labelling images of clothes"
   ]
  },
  {
   "cell_type": "markdown",
   "metadata": {
    "slideshow": {
     "slide_type": "subslide"
    }
   },
   "source": [
    "### Fashion MNIST Data - Example\n",
    "\n",
    "// Add pictures of Fashion here"
   ]
  },
  {
   "cell_type": "markdown",
   "metadata": {
    "slideshow": {
     "slide_type": "slide"
    }
   },
   "source": [
    "# Prediction\n",
    "### Customer Churn\n",
    "#### Will my customer run away?\n",
    "    Or Convert?"
   ]
  },
  {
   "cell_type": "markdown",
   "metadata": {},
   "source": [
    "# Text Classification\n",
    "    NLP - Natural Language Processing\n",
    "### Extracting key important information from hundreds of documents automatically"
   ]
  },
  {
   "cell_type": "code",
   "execution_count": null,
   "metadata": {},
   "outputs": [],
   "source": []
  }
 ],
 "metadata": {
  "celltoolbar": "Slideshow",
  "kernelspec": {
   "display_name": "Python 3",
   "language": "python",
   "name": "python3"
  },
  "language_info": {
   "codemirror_mode": {
    "name": "ipython",
    "version": 3
   },
   "file_extension": ".py",
   "mimetype": "text/x-python",
   "name": "python",
   "nbconvert_exporter": "python",
   "pygments_lexer": "ipython3",
   "version": "3.6.2"
  }
 },
 "nbformat": 4,
 "nbformat_minor": 2
}
