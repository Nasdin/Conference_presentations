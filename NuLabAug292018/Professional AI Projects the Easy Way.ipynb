{
 "cells": [
  {
   "cell_type": "markdown",
   "metadata": {
    "slideshow": {
     "slide_type": "slide"
    }
   },
   "source": [
    "# Creating AI projects without being an expert\n",
    "#### Professional- quality AI on projects, the easy way!\n",
    "### Nasrudin Salim\n"
   ]
  },
  {
   "cell_type": "markdown",
   "metadata": {
    "slideshow": {
     "slide_type": "slide"
    }
   },
   "source": [
    "### Past\n",
    "    Software engineering, internal products -\n",
    "#### Data Scientist @ EventPenguins | VIPQueue | LiquidityMagnate\n",
    "    EWallets, Food Delivery, events management and algorithmic trading"
   ]
  },
  {
   "cell_type": "markdown",
   "metadata": {
    "slideshow": {
     "slide_type": "subslide"
    }
   },
   "source": [
    "### Now\n",
    "    \n",
    "    Full-Time\n",
    "    Data Scientist @ Canopy.Cloud - Fintech, wealth aggregation platform\n",
    "\n",
    "\n",
    "#### Gig culture - Involved in other startups on free time\n",
    "    Blockchain ewallet, FuturesRobo Advisor startup, - Lead Consultant/Architect\n",
    "    Biotech, DNA Medical blockchain project, and chatbots - medical institution - Consultant.\n",
    "\n",
    "#### Co-Founder @ Chatoyance, Fintech, Financial strategy optimization.\n",
    "    Seeded 6 Figure sum. Trading the market with deep learning applied on risk management and strategy. Serve a News Sentiment analysis on articles API.\n",
    "    DL is applied on predicting a strategy's risk, rather than on the market, reducing complexity of prediction."
   ]
  },
  {
   "cell_type": "markdown",
   "metadata": {
    "slideshow": {
     "slide_type": "slide"
    }
   },
   "source": [
    "## Some requirements before we start"
   ]
  },
  {
   "cell_type": "markdown",
   "metadata": {
    "slideshow": {
     "slide_type": "fragment"
    }
   },
   "source": [
    "#### Basic python knowledge"
   ]
  },
  {
   "cell_type": "markdown",
   "metadata": {
    "slideshow": {
     "slide_type": "fragment"
    }
   },
   "source": [
    "#### Some data lying around"
   ]
  },
  {
   "cell_type": "markdown",
   "metadata": {
    "slideshow": {
     "slide_type": "slide"
    }
   },
   "source": [
    "# What are typical applications of AI for typical local businesses?\n",
    "\n",
    "    Most businesses do not need chatbots, reinforcement learning/robotics, \n",
    "    but what is practical?\n"
   ]
  },
  {
   "cell_type": "markdown",
   "metadata": {
    "slideshow": {
     "slide_type": "subslide"
    }
   },
   "source": [
    "### Prediction -\n",
    "\n",
    "    What is going to happen?"
   ]
  },
  {
   "cell_type": "code",
   "execution_count": 2,
   "metadata": {
    "slideshow": {
     "slide_type": "skip"
    }
   },
   "outputs": [
    {
     "name": "stderr",
     "output_type": "stream",
     "text": [
      "/home/nasrudin/Programs/anaconda3/lib/python3.7/site-packages/sklearn/utils/__init__.py:4: DeprecationWarning: Using or importing the ABCs from 'collections' instead of from 'collections.abc' is deprecated, and in 3.8 it will stop working\n",
      "  from collections import Sequence\n"
     ]
    }
   ],
   "source": [
    "import pandas as pd\n",
    "from sklearn.model_selection import train_test_split\n",
    "import numpy as np"
   ]
  },
  {
   "cell_type": "code",
   "execution_count": 3,
   "metadata": {
    "slideshow": {
     "slide_type": "skip"
    }
   },
   "outputs": [],
   "source": [
    "churn_data = pd.read_csv(\"Customer_Churn/train.csv\")\n",
    "churn_data_answers = churn_data['Label']\n",
    "churn_data.drop(\"Label\",axis=1,inplace=True)\n",
    "churn_data_train_dataset, churn_data_test_dataset, churn_data_train_answers, churn_data_test_answers = train_test_split(churn_data, churn_data_answers, test_size = 0.3, random_state=42)\n",
    "\n",
    "churn_data_know = churn_data_train_dataset.copy()\n",
    "churn_data_know['churned'] = churn_data_train_answers\n",
    "\n",
    "churn_data_dont_know = churn_data_test_dataset.copy()\n",
    "churn_data_dont_know['churned'] = np.nan"
   ]
  },
  {
   "cell_type": "markdown",
   "metadata": {
    "slideshow": {
     "slide_type": "fragment"
    }
   },
   "source": [
    "### Customer Churn Prediction\n",
    "    - Traffic Usage Data\n",
    "    - Lead Conversion Data\n",
    "    - Customer Churn Records"
   ]
  },
  {
   "cell_type": "code",
   "execution_count": 2,
   "metadata": {
    "slideshow": {
     "slide_type": "skip"
    }
   },
   "outputs": [],
   "source": [
    "from IPython.display import display, HTML\n",
    "pd.options.display.max_columns = None"
   ]
  },
  {
   "cell_type": "code",
   "execution_count": 3,
   "metadata": {
    "slideshow": {
     "slide_type": "subslide"
    }
   },
   "outputs": [
    {
     "data": {
      "text/html": [
       "<table border=\"1\" class=\"dataframe\">\n",
       "  <thead>\n",
       "    <tr style=\"text-align: right;\">\n",
       "      <th></th>\n",
       "      <th># Customer_ID</th>\n",
       "      <th>Sessions</th>\n",
       "      <th>Cell_ID</th>\n",
       "      <th>District_ID</th>\n",
       "      <th>Complaints_U</th>\n",
       "      <th>Complaints_R</th>\n",
       "      <th>Complaints_W</th>\n",
       "      <th>churned</th>\n",
       "    </tr>\n",
       "  </thead>\n",
       "  <tbody>\n",
       "    <tr>\n",
       "      <th>93296</th>\n",
       "      <td>2770289.0</td>\n",
       "      <td>14.0</td>\n",
       "      <td>0.0</td>\n",
       "      <td>4096.0</td>\n",
       "      <td>0.0</td>\n",
       "      <td>0.0</td>\n",
       "      <td>0.0</td>\n",
       "      <td>0.0</td>\n",
       "    </tr>\n",
       "    <tr>\n",
       "      <th>7022</th>\n",
       "      <td>41859563.0</td>\n",
       "      <td>53.0</td>\n",
       "      <td>0.0</td>\n",
       "      <td>4018.0</td>\n",
       "      <td>1.0</td>\n",
       "      <td>0.0</td>\n",
       "      <td>0.0</td>\n",
       "      <td>1.0</td>\n",
       "    </tr>\n",
       "    <tr>\n",
       "      <th>38831</th>\n",
       "      <td>2076101.0</td>\n",
       "      <td>16.0</td>\n",
       "      <td>0.0</td>\n",
       "      <td>4096.0</td>\n",
       "      <td>0.0</td>\n",
       "      <td>0.0</td>\n",
       "      <td>0.0</td>\n",
       "      <td>1.0</td>\n",
       "    </tr>\n",
       "    <tr>\n",
       "      <th>8161</th>\n",
       "      <td>42562614.0</td>\n",
       "      <td>3.0</td>\n",
       "      <td>0.0</td>\n",
       "      <td>4096.0</td>\n",
       "      <td>0.0</td>\n",
       "      <td>0.0</td>\n",
       "      <td>0.0</td>\n",
       "      <td>1.0</td>\n",
       "    </tr>\n",
       "    <tr>\n",
       "      <th>11827</th>\n",
       "      <td>1509741.0</td>\n",
       "      <td>16.0</td>\n",
       "      <td>0.0</td>\n",
       "      <td>4096.0</td>\n",
       "      <td>0.0</td>\n",
       "      <td>0.0</td>\n",
       "      <td>0.0</td>\n",
       "      <td>0.0</td>\n",
       "    </tr>\n",
       "  </tbody>\n",
       "</table>"
      ],
      "text/plain": [
       "<IPython.core.display.HTML object>"
      ]
     },
     "metadata": {},
     "output_type": "display_data"
    }
   ],
   "source": [
    "display(HTML(churn_data_know.head().to_html()))"
   ]
  },
  {
   "cell_type": "markdown",
   "metadata": {
    "slideshow": {
     "slide_type": "subslide"
    }
   },
   "source": [
    "## Image Classification - \n",
    "\n",
    "    What is this?"
   ]
  },
  {
   "cell_type": "markdown",
   "metadata": {
    "slideshow": {
     "slide_type": "fragment"
    }
   },
   "source": [
    "### Clothes and Fashion\n",
    "\n",
    "#### Labelling images of clothes"
   ]
  },
  {
   "cell_type": "markdown",
   "metadata": {
    "slideshow": {
     "slide_type": "subslide"
    }
   },
   "source": [
    "Label: Tribal Print Bodycon![img](imgs/Tribal_Print_Bodycon_Dressimg_00000001.jpg)\n",
    "Label: Triangle Patterned Dolman Cardigan    \n",
    "![img](imgs/Triangle-Patterned_Dolman_Cardiganimg_00000001.jpg)\n"
   ]
  },
  {
   "cell_type": "code",
   "execution_count": 12,
   "metadata": {
    "slideshow": {
     "slide_type": "skip"
    }
   },
   "outputs": [],
   "source": [
    "fashion_images = pd.read_table(\"Fashion_Prediction/list_category_img.txt\", delim_whitespace=True, skiprows=1)\n",
    "fashion_images.drop(\"category_label\", axis=1, inplace=True)"
   ]
  },
  {
   "cell_type": "markdown",
   "metadata": {
    "slideshow": {
     "slide_type": "subslide"
    }
   },
   "source": [
    "## The fashion dataset you might have lying around"
   ]
  },
  {
   "cell_type": "code",
   "execution_count": 17,
   "metadata": {
    "slideshow": {
     "slide_type": "fragment"
    }
   },
   "outputs": [
    {
     "data": {
      "text/html": [
       "<div>\n",
       "<style scoped>\n",
       "    .dataframe tbody tr th:only-of-type {\n",
       "        vertical-align: middle;\n",
       "    }\n",
       "\n",
       "    .dataframe tbody tr th {\n",
       "        vertical-align: top;\n",
       "    }\n",
       "\n",
       "    .dataframe thead th {\n",
       "        text-align: right;\n",
       "    }\n",
       "</style>\n",
       "<table border=\"1\" class=\"dataframe\">\n",
       "  <thead>\n",
       "    <tr style=\"text-align: right;\">\n",
       "      <th></th>\n",
       "      <th>image_name</th>\n",
       "    </tr>\n",
       "  </thead>\n",
       "  <tbody>\n",
       "    <tr>\n",
       "      <th>102646</th>\n",
       "      <td>img/Heathered_Slit-Back_Tee/img_00000001.jpg</td>\n",
       "    </tr>\n",
       "    <tr>\n",
       "      <th>48375</th>\n",
       "      <td>img/Textured_Faux_Leather_Moto_Jacket/img_0000...</td>\n",
       "    </tr>\n",
       "    <tr>\n",
       "      <th>246154</th>\n",
       "      <td>img/Striped_Cami_Jumpsuit/img_00000037.jpg</td>\n",
       "    </tr>\n",
       "    <tr>\n",
       "      <th>43067</th>\n",
       "      <td>img/Striped_Fringe_Cardigan/img_00000032.jpg</td>\n",
       "    </tr>\n",
       "    <tr>\n",
       "      <th>113616</th>\n",
       "      <td>img/Longline_Denim_Jacket/img_00000019.jpg</td>\n",
       "    </tr>\n",
       "    <tr>\n",
       "      <th>97137</th>\n",
       "      <td>img/Fringed_Open-Knit_Poncho/img_00000006.jpg</td>\n",
       "    </tr>\n",
       "    <tr>\n",
       "      <th>235794</th>\n",
       "      <td>img/Floral_Windowpane_Print_Dress/img_00000006...</td>\n",
       "    </tr>\n",
       "  </tbody>\n",
       "</table>\n",
       "</div>"
      ],
      "text/plain": [
       "                                               image_name\n",
       "102646       img/Heathered_Slit-Back_Tee/img_00000001.jpg\n",
       "48375   img/Textured_Faux_Leather_Moto_Jacket/img_0000...\n",
       "246154         img/Striped_Cami_Jumpsuit/img_00000037.jpg\n",
       "43067        img/Striped_Fringe_Cardigan/img_00000032.jpg\n",
       "113616         img/Longline_Denim_Jacket/img_00000019.jpg\n",
       "97137       img/Fringed_Open-Knit_Poncho/img_00000006.jpg\n",
       "235794  img/Floral_Windowpane_Print_Dress/img_00000006..."
      ]
     },
     "execution_count": 17,
     "metadata": {},
     "output_type": "execute_result"
    }
   ],
   "source": [
    "fashion_images.sample(7)"
   ]
  },
  {
   "cell_type": "markdown",
   "metadata": {
    "slideshow": {
     "slide_type": "subslide"
    }
   },
   "source": [
    "### Natural Language Processing\n",
    "\n",
    "    What is being talked about?\n",
    "    Automated data entry"
   ]
  },
  {
   "cell_type": "markdown",
   "metadata": {
    "slideshow": {
     "slide_type": "fragment"
    }
   },
   "source": [
    "### Sentiment Analysis\n",
    "### Text Classifiation"
   ]
  },
  {
   "cell_type": "markdown",
   "metadata": {
    "slideshow": {
     "slide_type": "fragment"
    }
   },
   "source": [
    "#### News Articles, good, bad? ( Sentiment)\n",
    "\n",
    "#### Labelling Text Data ( Categorizing)"
   ]
  },
  {
   "cell_type": "markdown",
   "metadata": {
    "slideshow": {
     "slide_type": "slide"
    }
   },
   "source": [
    "### What you can do to bridge the gap without a team of Data Scientists\n",
    "\n",
    "\n",
    "        Achieve close to or professional results"
   ]
  },
  {
   "cell_type": "markdown",
   "metadata": {
    "slideshow": {
     "slide_type": "fragment"
    }
   },
   "source": [
    "#### Google AutoML\n"
   ]
  },
  {
   "cell_type": "markdown",
   "metadata": {
    "slideshow": {
     "slide_type": "fragment"
    }
   },
   "source": [
    "#### H2O"
   ]
  },
  {
   "cell_type": "markdown",
   "metadata": {
    "slideshow": {
     "slide_type": "fragment"
    }
   },
   "source": [
    "#### DataRobot"
   ]
  },
  {
   "cell_type": "markdown",
   "metadata": {
    "slideshow": {
     "slide_type": "slide"
    }
   },
   "source": [
    "## Google AutoML\n",
    "\n",
    "##### AutoML Vision\n",
    "##### AutoML Natural Language\n",
    "##### AutoML Engine\n"
   ]
  },
  {
   "cell_type": "markdown",
   "metadata": {
    "slideshow": {
     "slide_type": "fragment"
    }
   },
   "source": [
    "    I do not work for Google!"
   ]
  },
  {
   "cell_type": "markdown",
   "metadata": {
    "slideshow": {
     "slide_type": "slide"
    }
   },
   "source": [
    "![img](imgs/GoogleAutoML.png)"
   ]
  },
  {
   "cell_type": "markdown",
   "metadata": {
    "slideshow": {
     "slide_type": "subslide"
    }
   },
   "source": [
    "![img](imgs/GoogleAutoML2.png)"
   ]
  },
  {
   "cell_type": "markdown",
   "metadata": {
    "slideshow": {
     "slide_type": "subslide"
    }
   },
   "source": [
    "![img](imgs/GoogleAutoML3.png)"
   ]
  },
  {
   "cell_type": "markdown",
   "metadata": {
    "slideshow": {
     "slide_type": "subslide"
    }
   },
   "source": [
    "![img](imgs/GoogleAutoML4.png)"
   ]
  },
  {
   "cell_type": "code",
   "execution_count": 18,
   "metadata": {
    "scrolled": true,
    "slideshow": {
     "slide_type": "subslide"
    }
   },
   "outputs": [
    {
     "data": {
      "text/html": [
       "<div>\n",
       "<style scoped>\n",
       "    .dataframe tbody tr th:only-of-type {\n",
       "        vertical-align: middle;\n",
       "    }\n",
       "\n",
       "    .dataframe tbody tr th {\n",
       "        vertical-align: top;\n",
       "    }\n",
       "\n",
       "    .dataframe thead th {\n",
       "        text-align: right;\n",
       "    }\n",
       "</style>\n",
       "<table border=\"1\" class=\"dataframe\">\n",
       "  <thead>\n",
       "    <tr style=\"text-align: right;\">\n",
       "      <th></th>\n",
       "      <th>image_name</th>\n",
       "    </tr>\n",
       "  </thead>\n",
       "  <tbody>\n",
       "    <tr>\n",
       "      <th>0</th>\n",
       "      <td>img/Sheer_Pleated-Front_Blouse/img_00000001.jpg</td>\n",
       "    </tr>\n",
       "    <tr>\n",
       "      <th>1</th>\n",
       "      <td>img/Sheer_Pleated-Front_Blouse/img_00000002.jpg</td>\n",
       "    </tr>\n",
       "    <tr>\n",
       "      <th>2</th>\n",
       "      <td>img/Sheer_Pleated-Front_Blouse/img_00000003.jpg</td>\n",
       "    </tr>\n",
       "    <tr>\n",
       "      <th>3</th>\n",
       "      <td>img/Sheer_Pleated-Front_Blouse/img_00000004.jpg</td>\n",
       "    </tr>\n",
       "    <tr>\n",
       "      <th>4</th>\n",
       "      <td>img/Sheer_Pleated-Front_Blouse/img_00000005.jpg</td>\n",
       "    </tr>\n",
       "  </tbody>\n",
       "</table>\n",
       "</div>"
      ],
      "text/plain": [
       "                                        image_name\n",
       "0  img/Sheer_Pleated-Front_Blouse/img_00000001.jpg\n",
       "1  img/Sheer_Pleated-Front_Blouse/img_00000002.jpg\n",
       "2  img/Sheer_Pleated-Front_Blouse/img_00000003.jpg\n",
       "3  img/Sheer_Pleated-Front_Blouse/img_00000004.jpg\n",
       "4  img/Sheer_Pleated-Front_Blouse/img_00000005.jpg"
      ]
     },
     "execution_count": 18,
     "metadata": {},
     "output_type": "execute_result"
    }
   ],
   "source": [
    "fashion_images.head()"
   ]
  },
  {
   "cell_type": "code",
   "execution_count": 19,
   "metadata": {
    "slideshow": {
     "slide_type": "-"
    }
   },
   "outputs": [
    {
     "data": {
      "text/plain": [
       "(289222, 1)"
      ]
     },
     "execution_count": 19,
     "metadata": {},
     "output_type": "execute_result"
    }
   ],
   "source": [
    "fashion_images.shape"
   ]
  },
  {
   "cell_type": "markdown",
   "metadata": {
    "slideshow": {
     "slide_type": "fragment"
    }
   },
   "source": [
    "#### I think I need to lower this down to train faster, as this is a demo"
   ]
  },
  {
   "cell_type": "markdown",
   "metadata": {
    "slideshow": {
     "slide_type": "subslide"
    }
   },
   "source": [
    "### Generalize my labels and limit samples."
   ]
  },
  {
   "cell_type": "code",
   "execution_count": 20,
   "metadata": {
    "slideshow": {
     "slide_type": "fragment"
    }
   },
   "outputs": [],
   "source": [
    "def clean_image_name_fashion(description:str) -> str:\n",
    "    item = description.split(\"/\")[1]\n",
    "    item = item.replace(\"_\",\" \").replace(\"-\",\" \")\n",
    "    return item.split(\" \")[-1]\n",
    "\n",
    "fashion_images['label'] = fashion_images['image_name'].apply(clean_image_name_fashion)\n",
    "fashion_images.sort_values(\"label\",inplace=True)\n",
    "fashion_images.reset_index(inplace=True,drop=True)"
   ]
  },
  {
   "cell_type": "code",
   "execution_count": 21,
   "metadata": {
    "slideshow": {
     "slide_type": "fragment"
    }
   },
   "outputs": [
    {
     "data": {
      "text/html": [
       "<div>\n",
       "<style scoped>\n",
       "    .dataframe tbody tr th:only-of-type {\n",
       "        vertical-align: middle;\n",
       "    }\n",
       "\n",
       "    .dataframe tbody tr th {\n",
       "        vertical-align: top;\n",
       "    }\n",
       "\n",
       "    .dataframe thead th {\n",
       "        text-align: right;\n",
       "    }\n",
       "</style>\n",
       "<table border=\"1\" class=\"dataframe\">\n",
       "  <thead>\n",
       "    <tr style=\"text-align: right;\">\n",
       "      <th></th>\n",
       "      <th>image_name</th>\n",
       "      <th>label</th>\n",
       "    </tr>\n",
       "  </thead>\n",
       "  <tbody>\n",
       "    <tr>\n",
       "      <th>0</th>\n",
       "      <td>img/Hooded_Cotton_Canvas_Anorak/img_00000039.jpg</td>\n",
       "      <td>Anorak</td>\n",
       "    </tr>\n",
       "    <tr>\n",
       "      <th>1</th>\n",
       "      <td>img/Hooded_Cotton_Canvas_Anorak/img_00000013.jpg</td>\n",
       "      <td>Anorak</td>\n",
       "    </tr>\n",
       "    <tr>\n",
       "      <th>2</th>\n",
       "      <td>img/Hooded_Cotton_Canvas_Anorak/img_00000014.jpg</td>\n",
       "      <td>Anorak</td>\n",
       "    </tr>\n",
       "    <tr>\n",
       "      <th>3</th>\n",
       "      <td>img/Hooded_Cotton_Canvas_Anorak/img_00000015.jpg</td>\n",
       "      <td>Anorak</td>\n",
       "    </tr>\n",
       "    <tr>\n",
       "      <th>4</th>\n",
       "      <td>img/Hooded_Cotton_Canvas_Anorak/img_00000016.jpg</td>\n",
       "      <td>Anorak</td>\n",
       "    </tr>\n",
       "  </tbody>\n",
       "</table>\n",
       "</div>"
      ],
      "text/plain": [
       "                                         image_name   label\n",
       "0  img/Hooded_Cotton_Canvas_Anorak/img_00000039.jpg  Anorak\n",
       "1  img/Hooded_Cotton_Canvas_Anorak/img_00000013.jpg  Anorak\n",
       "2  img/Hooded_Cotton_Canvas_Anorak/img_00000014.jpg  Anorak\n",
       "3  img/Hooded_Cotton_Canvas_Anorak/img_00000015.jpg  Anorak\n",
       "4  img/Hooded_Cotton_Canvas_Anorak/img_00000016.jpg  Anorak"
      ]
     },
     "execution_count": 21,
     "metadata": {},
     "output_type": "execute_result"
    }
   ],
   "source": [
    "fashion_images.head()"
   ]
  },
  {
   "cell_type": "markdown",
   "metadata": {
    "slideshow": {
     "slide_type": "subslide"
    }
   },
   "source": [
    "## Split your data to Train, Test and Validation\n",
    "\n",
    "    Train + Validation = 70%\n",
    "    Test = 30%\n",
    "    "
   ]
  },
  {
   "cell_type": "markdown",
   "metadata": {
    "slideshow": {
     "slide_type": "-"
    }
   },
   "source": [
    "![img](imgs/traintestvalidation.png)"
   ]
  },
  {
   "cell_type": "markdown",
   "metadata": {
    "slideshow": {
     "slide_type": "fragment"
    }
   },
   "source": [
    "- Google AutoML will handle Train, Test and Cross Validation for us automatically.\n",
    "- Keep a test dataset to verify model accuracy after Training\n",
    "- Separate Labels from data"
   ]
  },
  {
   "cell_type": "markdown",
   "metadata": {
    "slideshow": {
     "slide_type": "subslide"
    }
   },
   "source": [
    "- Take 200 of each type for Training\n",
    "- Take 60 of each for Testing\n",
    "- Remove types where we do not have 260 of\n",
    "    "
   ]
  },
  {
   "cell_type": "code",
   "execution_count": 63,
   "metadata": {
    "slideshow": {
     "slide_type": "fragment"
    }
   },
   "outputs": [],
   "source": [
    "fashion_training_data = []\n",
    "fashion_testing_data = []\n",
    "for label, have_enough_data in (fashion_images['label'].value_counts()>=260).iteritems():\n",
    "    \n",
    "    if not have_enough_data:\n",
    "        continue\n",
    "    # Get the subset of that label\n",
    "    subset = fashion_images.loc[fashion_images['label']==label]\n",
    "    # Takes 260 samples\n",
    "    random_samples = subset.sample(260)\n",
    "    # Puts first 200 into fashion_training_data\n",
    "    fashion_training_data.append(random_samples.iloc[:200])\n",
    "    # Puts last 60 into fashion_testing_data\n",
    "    fashion_testing_data.append(random_samples.iloc[200:260])\n",
    "    \n",
    "fashion_training_data_df = pd.concat(fashion_training_data)\n",
    "fashion_testing_data_df = pd.concat(fashion_testing_data)"
   ]
  },
  {
   "cell_type": "code",
   "execution_count": 62,
   "metadata": {
    "slideshow": {
     "slide_type": "subslide"
    }
   },
   "outputs": [
    {
     "data": {
      "text/plain": [
       "6600"
      ]
     },
     "execution_count": 62,
     "metadata": {},
     "output_type": "execute_result"
    }
   ],
   "source": [
    "fashion_training_data_df.shape[0]"
   ]
  },
  {
   "cell_type": "code",
   "execution_count": 64,
   "metadata": {
    "slideshow": {
     "slide_type": "-"
    }
   },
   "outputs": [
    {
     "data": {
      "text/plain": [
       "1980"
      ]
     },
     "execution_count": 64,
     "metadata": {},
     "output_type": "execute_result"
    }
   ],
   "source": [
    "fashion_testing_data_df.shape[0]"
   ]
  },
  {
   "cell_type": "code",
   "execution_count": 66,
   "metadata": {
    "slideshow": {
     "slide_type": "fragment"
    }
   },
   "outputs": [
    {
     "data": {
      "text/plain": [
       "Jeans          200\n",
       "Jacket         200\n",
       "Sweatshorts    200\n",
       "Romper         200\n",
       "Henley         200\n",
       "Blouse         200\n",
       "Leggings       200\n",
       "Parka          200\n",
       "Tank           200\n",
       "Poncho         200\n",
       "Jumpsuit       200\n",
       "Sweater        200\n",
       "Hoodie         200\n",
       "Coat           200\n",
       "Tee            200\n",
       "Bomber         200\n",
       "Joggers        200\n",
       "Cardigan       200\n",
       "Flannel        200\n",
       "Shorts         200\n",
       "Top            200\n",
       "Blazer         200\n",
       "Jeggings       200\n",
       "Chinos         200\n",
       "Skirt          200\n",
       "Down           200\n",
       "Dress          200\n",
       "Culottes       200\n",
       "Kimono         200\n",
       "Trunks         200\n",
       "Jersey         200\n",
       "Cutoffs        200\n",
       "Sweatpants     200\n",
       "Name: label, dtype: int64"
      ]
     },
     "execution_count": 66,
     "metadata": {},
     "output_type": "execute_result"
    }
   ],
   "source": [
    "fashion_training_data_df['label'].value_counts()"
   ]
  },
  {
   "cell_type": "markdown",
   "metadata": {
    "slideshow": {
     "slide_type": "subslide"
    }
   },
   "source": [
    "### Copy Files Into different subfolders"
   ]
  },
  {
   "cell_type": "code",
   "execution_count": 82,
   "metadata": {
    "slideshow": {
     "slide_type": "fragment"
    }
   },
   "outputs": [],
   "source": [
    "import os\n",
    "import shutil"
   ]
  },
  {
   "cell_type": "code",
   "execution_count": 84,
   "metadata": {
    "scrolled": true,
    "slideshow": {
     "slide_type": "-"
    }
   },
   "outputs": [],
   "source": [
    "try:\n",
    "    os.mkdir(\"../../data/image_classification/samples\")\n",
    "except FileExistsError:\n",
    "    pass\n",
    "\n",
    "for image_number, row in enumerate(random_samples.itertuples()):\n",
    "    folder_name = \"../../data/image_classification/samples/{}\".format(row.label) \n",
    "    if not os.path.exists(folder_name):\n",
    "        os.mkdir(folder_name)\n",
    "    source_file = os.path.abspath(\"../../data/image_classification/data/{}\".format(row.image_name))\n",
    "    destination_file = os.path.abspath(\"../../data/image_classification/samples/{}/img_{}.jpg\".format(row.label, str(image_number)))\n",
    "    # Move the file here\n",
    "    shutil.copy(source_file, destination_file)"
   ]
  },
  {
   "cell_type": "markdown",
   "metadata": {
    "slideshow": {
     "slide_type": "subslide"
    }
   },
   "source": [
    "![img](imgs/GoogleAutoML5.png)"
   ]
  },
  {
   "cell_type": "markdown",
   "metadata": {
    "slideshow": {
     "slide_type": "subslide"
    }
   },
   "source": [
    "### Zip Upload, Train"
   ]
  },
  {
   "cell_type": "markdown",
   "metadata": {
    "slideshow": {
     "slide_type": "-"
    }
   },
   "source": [
    "![img](imgs/GoogleAutoML6.png)"
   ]
  },
  {
   "cell_type": "markdown",
   "metadata": {
    "slideshow": {
     "slide_type": "subslide"
    }
   },
   "source": [
    "![img](imgs/GoogleAutoML7.png)"
   ]
  },
  {
   "cell_type": "markdown",
   "metadata": {
    "slideshow": {
     "slide_type": "subslide"
    }
   },
   "source": [
    "![img](imgs/GoogleAutoML8.png)"
   ]
  },
  {
   "cell_type": "markdown",
   "metadata": {
    "slideshow": {
     "slide_type": "skip"
    }
   },
   "source": [
    "# Using Google AutoML NLP for Classifying Text"
   ]
  },
  {
   "cell_type": "code",
   "execution_count": 10,
   "metadata": {
    "slideshow": {
     "slide_type": "skip"
    }
   },
   "outputs": [],
   "source": [
    "import pandas as pd\n",
    "from sklearn.model_selection import train_test_split\n",
    "import numpy as np\n",
    "\n",
    "churn_data = pd.read_csv(\"Customer_Churn/train.csv\")"
   ]
  },
  {
   "cell_type": "code",
   "execution_count": 11,
   "metadata": {
    "slideshow": {
     "slide_type": "skip"
    }
   },
   "outputs": [
    {
     "data": {
      "text/html": [
       "<table border=\"1\" class=\"dataframe\">\n",
       "  <thead>\n",
       "    <tr style=\"text-align: right;\">\n",
       "      <th></th>\n",
       "      <th># Customer_ID</th>\n",
       "      <th>Sessions</th>\n",
       "      <th>Cell_ID</th>\n",
       "      <th>District_ID</th>\n",
       "      <th>Complaints_U</th>\n",
       "      <th>Complaints_R</th>\n",
       "      <th>Complaints_W</th>\n",
       "      <th>Label</th>\n",
       "    </tr>\n",
       "  </thead>\n",
       "  <tbody>\n",
       "    <tr>\n",
       "      <th>0</th>\n",
       "      <td>44236450.0</td>\n",
       "      <td>3.0</td>\n",
       "      <td>0.0</td>\n",
       "      <td>4096.0</td>\n",
       "      <td>0.0</td>\n",
       "      <td>0.0</td>\n",
       "      <td>0.0</td>\n",
       "      <td>1.0</td>\n",
       "    </tr>\n",
       "    <tr>\n",
       "      <th>1</th>\n",
       "      <td>2948643.0</td>\n",
       "      <td>10.0</td>\n",
       "      <td>0.0</td>\n",
       "      <td>4049.0</td>\n",
       "      <td>0.0</td>\n",
       "      <td>0.0</td>\n",
       "      <td>0.0</td>\n",
       "      <td>1.0</td>\n",
       "    </tr>\n",
       "    <tr>\n",
       "      <th>2</th>\n",
       "      <td>42637860.0</td>\n",
       "      <td>11.0</td>\n",
       "      <td>0.0</td>\n",
       "      <td>4044.0</td>\n",
       "      <td>0.0</td>\n",
       "      <td>0.0</td>\n",
       "      <td>0.0</td>\n",
       "      <td>0.0</td>\n",
       "    </tr>\n",
       "    <tr>\n",
       "      <th>3</th>\n",
       "      <td>40512349.0</td>\n",
       "      <td>8.0</td>\n",
       "      <td>0.0</td>\n",
       "      <td>4080.0</td>\n",
       "      <td>0.0</td>\n",
       "      <td>0.0</td>\n",
       "      <td>0.0</td>\n",
       "      <td>1.0</td>\n",
       "    </tr>\n",
       "    <tr>\n",
       "      <th>4</th>\n",
       "      <td>2149557.0</td>\n",
       "      <td>13.0</td>\n",
       "      <td>0.0</td>\n",
       "      <td>4096.0</td>\n",
       "      <td>0.0</td>\n",
       "      <td>0.0</td>\n",
       "      <td>0.0</td>\n",
       "      <td>0.0</td>\n",
       "    </tr>\n",
       "  </tbody>\n",
       "</table>"
      ],
      "text/plain": [
       "<IPython.core.display.HTML object>"
      ]
     },
     "metadata": {},
     "output_type": "display_data"
    }
   ],
   "source": [
    "display(HTML(churn_data.head().to_html()))"
   ]
  },
  {
   "cell_type": "code",
   "execution_count": 12,
   "metadata": {
    "slideshow": {
     "slide_type": "skip"
    }
   },
   "outputs": [
    {
     "data": {
      "text/plain": [
       "(130000, 8)"
      ]
     },
     "execution_count": 12,
     "metadata": {},
     "output_type": "execute_result"
    }
   ],
   "source": [
    "churn_data.shape"
   ]
  },
  {
   "cell_type": "markdown",
   "metadata": {
    "slideshow": {
     "slide_type": "skip"
    }
   },
   "source": [
    "#### Separate the Label from the data"
   ]
  },
  {
   "cell_type": "code",
   "execution_count": 13,
   "metadata": {
    "slideshow": {
     "slide_type": "skip"
    }
   },
   "outputs": [],
   "source": [
    "churn_data_answers = churn_data['Label']\n",
    "churn_data.drop(\"Label\",axis=1,inplace=True)"
   ]
  },
  {
   "cell_type": "markdown",
   "metadata": {
    "slideshow": {
     "slide_type": "skip"
    }
   },
   "source": [
    "#### Split the Dataset into Train, Test and Split portions"
   ]
  },
  {
   "cell_type": "markdown",
   "metadata": {
    "slideshow": {
     "slide_type": "skip"
    }
   },
   "source": [
    "###### Split into Train(60%) and Test(40%)"
   ]
  },
  {
   "cell_type": "code",
   "execution_count": 14,
   "metadata": {
    "slideshow": {
     "slide_type": "skip"
    }
   },
   "outputs": [],
   "source": [
    "from sklearn.model_selection import train_test_split\n",
    "churn_data_train_dataset, churn_data_test_dataset, \\\n",
    "churn_data_train_answers, churn_data_test_answers = \\\n",
    "                     train_test_split(churn_data, \n",
    "                                      churn_data_answers, \n",
    "                                      test_size = 0.4, \n",
    "                                      random_state=1)"
   ]
  },
  {
   "cell_type": "markdown",
   "metadata": {
    "slideshow": {
     "slide_type": "skip"
    }
   },
   "source": [
    "##### Split the Test(40%) into Test(20%) and Validate(20%), by halving it(Take 50%)"
   ]
  },
  {
   "cell_type": "code",
   "execution_count": 15,
   "metadata": {
    "slideshow": {
     "slide_type": "skip"
    }
   },
   "outputs": [],
   "source": [
    "churn_data_test_dataset, churn_data_validate_dataset, \\\n",
    "churn_data_test_answers, churn_data_validate_answers = \\\n",
    "                        train_test_split(churn_data_test_dataset,\n",
    "                                         churn_data_test_dataset,\n",
    "                                         test_size = 0.5, \n",
    "                                         random_state=2)"
   ]
  },
  {
   "cell_type": "code",
   "execution_count": 16,
   "metadata": {
    "slideshow": {
     "slide_type": "skip"
    }
   },
   "outputs": [
    {
     "name": "stdout",
     "output_type": "stream",
     "text": [
      "(78000, 7)\n",
      "(26000, 7)\n",
      "(26000, 7)\n"
     ]
    }
   ],
   "source": [
    "print(churn_data_train_dataset.shape)\n",
    "print(churn_data_test_dataset.shape)\n",
    "print(churn_data_validate_dataset.shape)"
   ]
  },
  {
   "cell_type": "markdown",
   "metadata": {
    "slideshow": {
     "slide_type": "slide"
    }
   },
   "source": [
    "### Some ending notes\n",
    "\n",
    "    This does not make Data Scientists or programmers redundant.\n",
    "    This frees up a lot of the guess work that data scientists usually have to do.\n",
    "    Data Scientists and developers are still required to optimize, implement and design products and processes.\n",
    "    "
   ]
  }
 ],
 "metadata": {
  "celltoolbar": "Slideshow",
  "kernelspec": {
   "display_name": "Python 3",
   "language": "python",
   "name": "python3"
  },
  "language_info": {
   "codemirror_mode": {
    "name": "ipython",
    "version": 3
   },
   "file_extension": ".py",
   "mimetype": "text/x-python",
   "name": "python",
   "nbconvert_exporter": "python",
   "pygments_lexer": "ipython3",
   "version": "3.7.0"
  }
 },
 "nbformat": 4,
 "nbformat_minor": 2
}
